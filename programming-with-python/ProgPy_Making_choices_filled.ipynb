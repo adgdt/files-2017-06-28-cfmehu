{
 "cells": [
  {
   "cell_type": "markdown",
   "metadata": {},
   "source": [
    "# Making choices\n",
    "\n",
    "In last section we discovered something suspicios in our inflammation data by drawing some plots. How can we use Python\n",
    "to automatically detect the anomalies we found and take an action for each of them?"
   ]
  },
  {
   "cell_type": "markdown",
   "metadata": {},
   "source": [
    "<strong>By writing code that runs only certain conditions</strong>:"
   ]
  },
  {
   "cell_type": "markdown",
   "metadata": {},
   "source": [
    "### Conditionals\n",
    "\n",
    "A conditional is a piece of code that takes different actions depending on a condition:"
   ]
  },
  {
   "cell_type": "markdown",
   "metadata": {},
   "source": [
    "Imagine we want to determine if a certain number is lower or greater than 100. The flow of this conditional:\n",
    "<img src=\"https://scw-ss.github.io/python-novice-inflammation-2016-06-27-cfmehu/fig/python-flowchart-conditional.png\">"
   ]
  },
  {
   "cell_type": "markdown",
   "metadata": {},
   "source": [
    "This scheme is achieved in Python by means of the <code>if</code>/<code>else</code> clause:"
   ]
  },
  {
   "cell_type": "code",
   "execution_count": 1,
   "metadata": {
    "collapsed": false
   },
   "outputs": [
    {
     "name": "stdout",
     "output_type": "stream",
     "text": [
      "not greater\n",
      "done\n"
     ]
    }
   ],
   "source": [
    "num = 37\n",
    "if num > 100:\n",
    "    print('greater')\n",
    "else:\n",
    "    print('not greater')\n",
    "print('done')"
   ]
  },
  {
   "cell_type": "markdown",
   "metadata": {},
   "source": [
    "Sometimes there is no need to use a else, it depends on the logic of the problem:"
   ]
  },
  {
   "cell_type": "code",
   "execution_count": 2,
   "metadata": {
    "collapsed": false
   },
   "outputs": [
    {
     "name": "stdout",
     "output_type": "stream",
     "text": [
      "before conditional....\n",
      "... after conditional\n"
     ]
    }
   ],
   "source": [
    "num = 53\n",
    "print ('before conditional....')\n",
    "if num > 100:\n",
    "    print ('53 is greater than 100')\n",
    "print('... after conditional')"
   ]
  },
  {
   "cell_type": "markdown",
   "metadata": {},
   "source": [
    "Sometimes the flow of the decision is more complex. There are still multiple choices available  \n",
    "when the first condition is discarded. <br>\n",
    "As an example imagine we want to know if a given number is positive negative or zero. We make use of the <code>elif</code> clause:"
   ]
  },
  {
   "cell_type": "code",
   "execution_count": 3,
   "metadata": {
    "collapsed": false
   },
   "outputs": [
    {
     "name": "stdout",
     "output_type": "stream",
     "text": [
      "-3 is negative\n"
     ]
    }
   ],
   "source": [
    "\n",
    "num = -3\n",
    "\n",
    "if num > 0:\n",
    "    print(num, 'is positive')\n",
    "elif num == 0: # note the sign == instead of =. The reason is that \"==\" tests equality whereas \"=\" means assignment\n",
    "    print(num, 'is zero')\n",
    "else:\n",
    "    print(num, 'is negative')\n",
    "    "
   ]
  },
  {
   "cell_type": "markdown",
   "metadata": {},
   "source": [
    "<strong>Note the \"==\"</strong>. This symbol checks equality rather than \"=\" wich means assingment"
   ]
  },
  {
   "cell_type": "markdown",
   "metadata": {},
   "source": [
    "## Composed conditions\n",
    "We can write complex conditions in the if clause by using concatenation of simple conditions by means of <code>and</code> and <code>or</code>. <br>\n",
    "As in human language an <code>and</code> condition is True if all its components are True:"
   ]
  },
  {
   "cell_type": "code",
   "execution_count": 4,
   "metadata": {
    "collapsed": false
   },
   "outputs": [
    {
     "name": "stdout",
     "output_type": "stream",
     "text": [
      "at least one part is false\n"
     ]
    }
   ],
   "source": [
    "# We can add complex conditions to the if clause, concatenating sentences with \"or\" and \"and\"\n",
    "\n",
    "if (1 > 0) and (-1 > 0): # Note the ()  the are not really needed but the reading is clearer\n",
    "                         # and the \"and\". For and \"and\" to be true every part has to be true by itself\n",
    "    print ('both parts are true')\n",
    "else:\n",
    "    print('at least one part is false')"
   ]
  },
  {
   "cell_type": "markdown",
   "metadata": {},
   "source": [
    "Whereas an <code>or</code> condition is True if any of it components is True:"
   ]
  },
  {
   "cell_type": "code",
   "execution_count": 5,
   "metadata": {
    "collapsed": false
   },
   "outputs": [
    {
     "name": "stdout",
     "output_type": "stream",
     "text": [
      "at least one part is true\n"
     ]
    }
   ],
   "source": [
    "if (1 > 0) or (-1 > 0): # Note that an \"or\" condition is true if any of the parts is true\n",
    "    print('at least one part is true')\n",
    "else:\n",
    "    print('none of them are true')"
   ]
  },
  {
   "cell_type": "markdown",
   "metadata": {},
   "source": [
    "## Checking our Data"
   ]
  },
  {
   "cell_type": "markdown",
   "metadata": {},
   "source": [
    "Now we are in conditions to check our suspicious data in the inflammation tests.<br>\n",
    "First two files max inflammation seems to rise linearly. So let's write a code that check this behavior and show warning:"
   ]
  },
  {
   "cell_type": "code",
   "execution_count": 6,
   "metadata": {
    "collapsed": false
   },
   "outputs": [
    {
     "name": "stdout",
     "output_type": "stream",
     "text": [
      "Suspicious looking maxima\n"
     ]
    }
   ],
   "source": [
    "import numpy\n",
    "\n",
    "data = numpy.loadtxt(fname='inflammation-01.csv', delimiter=',')\n",
    "if (data.max(axis=0)[0]==0) and (data.max(axis=0)[20]==20): # Anomalous linear behavior of the max in the data\n",
    "    print('Suspicious looking maxima')\n",
    "elif (data.min(axis=0).sum() == 0):\n",
    "    print('Minima add up to zero')\n",
    "else:\n",
    "    print('Everything seems OK')"
   ]
  },
  {
   "cell_type": "markdown",
   "metadata": {},
   "source": [
    "We saw a different issue in file 3. All minima where 0. So we write a code to check that:"
   ]
  },
  {
   "cell_type": "code",
   "execution_count": 7,
   "metadata": {
    "collapsed": false
   },
   "outputs": [
    {
     "name": "stdout",
     "output_type": "stream",
     "text": [
      "Minima add up to zero\n"
     ]
    }
   ],
   "source": [
    "data = numpy.loadtxt(fname='inflammation-03.csv', delimiter=',')\n",
    "if (data.max(axis=0)[0]==0) and (data.max(axis=0)[20]==20): # Anomalous linear behavior of the max in the data\n",
    "    print('Suspicious looking maxima')\n",
    "elif (data.min(axis=0).sum() == 0):\n",
    "    print('Minima add up to zero')\n",
    "else:\n",
    "    print('Everything seems OK')"
   ]
  },
  {
   "cell_type": "markdown",
   "metadata": {},
   "source": [
    "We can check now several files putting all toghether:"
   ]
  },
  {
   "cell_type": "code",
   "execution_count": 8,
   "metadata": {
    "collapsed": true
   },
   "outputs": [],
   "source": [
    "import glob"
   ]
  },
  {
   "cell_type": "code",
   "execution_count": 20,
   "metadata": {
    "collapsed": false
   },
   "outputs": [
    {
     "name": "stdout",
     "output_type": "stream",
     "text": [
      "inflammation-01.csv :\n",
      "Suspicious looking maxima\n",
      "inflammation-02.csv :\n",
      "Suspicious looking maxima\n",
      "inflammation-03.csv :\n",
      "Minima add up to zero\n"
     ]
    }
   ],
   "source": [
    "filenames = sorted(glob.glob('inflammation*.csv'))\n",
    "filenames = filenames[0:3] # Get elements 0, 1 and 2 of the list corresponding to inf-01 inf-02 and inf-03\n",
    "filenames\n",
    "for f in filenames:\n",
    "    print(f,':')\n",
    "    data = numpy.loadtxt(fname=f, delimiter=',')\n",
    "    if (data.max(axis=0)[0]==0) and (data.max(axis=0)[20]==20): # Anomalous linear behavior of the max in the data\n",
    "        print('Suspicious looking maxima')\n",
    "    elif (data.min(axis=0).sum() == 0):\n",
    "        print('Minima add up to zero')\n",
    "    else:\n",
    "        print('Everything seems OK')\n"
   ]
  },
  {
   "cell_type": "markdown",
   "metadata": {},
   "source": [
    "## Exercises\n",
    "https://scw-ss.github.io/python-novice-inflammation-2016-06-27-cfmehu/05-cond.html"
   ]
  },
  {
   "cell_type": "markdown",
   "metadata": {},
   "source": [
    "## How many paths?"
   ]
  },
  {
   "cell_type": "code",
   "execution_count": 10,
   "metadata": {
    "collapsed": false
   },
   "outputs": [
    {
     "name": "stdout",
     "output_type": "stream",
     "text": [
      "C\n"
     ]
    }
   ],
   "source": [
    "if 4 > 5:\n",
    "    print('A')\n",
    "elif 4 == 5:\n",
    "    print('B')\n",
    "elif 4 < 5:\n",
    "    print('C')"
   ]
  },
  {
   "cell_type": "markdown",
   "metadata": {},
   "source": [
    "### What Is Truth?"
   ]
  },
  {
   "cell_type": "code",
   "execution_count": 11,
   "metadata": {
    "collapsed": false
   },
   "outputs": [
    {
     "name": "stdout",
     "output_type": "stream",
     "text": [
      "word is true\n",
      "non-empty list is true\n",
      "one is true\n"
     ]
    }
   ],
   "source": [
    "if '':\n",
    "    print('empty string is true')\n",
    "if 'word':\n",
    "    print('word is true')\n",
    "if []:\n",
    "    print('empty list is true')\n",
    "if [1, 2, 3]:\n",
    "    print('non-empty list is true')\n",
    "if 0:\n",
    "    print('zero is true')\n",
    "if 1:\n",
    "    print('one is true')"
   ]
  },
  {
   "cell_type": "markdown",
   "metadata": {},
   "source": [
    "### That’s Not Not What I Meant"
   ]
  },
  {
   "cell_type": "code",
   "execution_count": 12,
   "metadata": {
    "collapsed": false
   },
   "outputs": [
    {
     "name": "stdout",
     "output_type": "stream",
     "text": [
      "empty string is not true\n",
      "not not True is true\n"
     ]
    }
   ],
   "source": [
    "if not '':\n",
    "    print('empty string is not true')\n",
    "if not 'word':\n",
    "    print('word is not true')\n",
    "if not not True:\n",
    "    print('not not True is true')"
   ]
  },
  {
   "cell_type": "markdown",
   "metadata": {},
   "source": [
    "### Close Enough"
   ]
  },
  {
   "cell_type": "code",
   "execution_count": 13,
   "metadata": {
    "collapsed": false
   },
   "outputs": [
    {
     "name": "stdout",
     "output_type": "stream",
     "text": [
      "True\n"
     ]
    }
   ],
   "source": [
    "a = 1.01\n",
    "b = 1\n",
    "if (a >= 0.95 * b) and (a < 1.05 * b): # We consider within as strictly below b+5% and above b-5%\n",
    "    print('True')\n",
    "else:\n",
    "    print('False')"
   ]
  },
  {
   "cell_type": "markdown",
   "metadata": {},
   "source": [
    "### In-place operators"
   ]
  },
  {
   "cell_type": "code",
   "execution_count": 14,
   "metadata": {
    "collapsed": false
   },
   "outputs": [
    {
     "name": "stdout",
     "output_type": "stream",
     "text": [
      "positive sum is 14 , and the negative sum is -6\n"
     ]
    }
   ],
   "source": [
    "numbers = [-1, 2, -3, 7, 5, -2] # Given a list. Not an array!!\n",
    "\n",
    "pos_sum = 0\n",
    "neg_sum = 0\n",
    "\n",
    "for number in numbers:\n",
    "    if number > 0:\n",
    "        pos_sum += number\n",
    "    else:\n",
    "        neg_sum += number\n",
    "print('positive sum is', pos_sum, ', and the negative sum is', neg_sum ) \n",
    "\n"
   ]
  },
  {
   "cell_type": "markdown",
   "metadata": {},
   "source": [
    "### Tuples and Exchanges"
   ]
  },
  {
   "cell_type": "code",
   "execution_count": 15,
   "metadata": {
    "collapsed": true
   },
   "outputs": [],
   "source": [
    "##Ejercicio repetido??"
   ]
  },
  {
   "cell_type": "markdown",
   "metadata": {},
   "source": [
    "### Sorting lists into buckets"
   ]
  },
  {
   "cell_type": "code",
   "execution_count": 16,
   "metadata": {
    "collapsed": false
   },
   "outputs": [
    {
     "name": "stdout",
     "output_type": "stream",
     "text": [
      "large files: ['inflammation-01.csv', 'inflammation-02.csv']\n",
      "small files: ['small-01.csv', 'small-02.csv']\n",
      "other files: ['myscript.py']\n"
     ]
    }
   ],
   "source": [
    "files = ['inflammation-01.csv', 'myscript.py', 'inflammation-02.csv', 'small-01.csv', 'small-02.csv']\n",
    "large_files = []\n",
    "small_files = []\n",
    "other_files = []\n",
    "\n",
    "for file in files:\n",
    "    if file.startswith('inflammation'):\n",
    "        large_files += [file]\n",
    "    elif file.startswith('small'):\n",
    "        small_files += [file]\n",
    "    else:\n",
    "        other_files += [file]\n",
    "print('large files:', large_files)\n",
    "print('small files:', small_files)\n",
    "print('other files:', other_files)"
   ]
  },
  {
   "cell_type": "markdown",
   "metadata": {},
   "source": [
    "### Counting Vowels "
   ]
  },
  {
   "cell_type": "code",
   "execution_count": 17,
   "metadata": {
    "collapsed": false
   },
   "outputs": [
    {
     "name": "stdout",
     "output_type": "stream",
     "text": [
      "number of vowels: 4\n"
     ]
    }
   ],
   "source": [
    "string = 'aljdiajdi'\n",
    "vowels = 0\n",
    "for char in string:\n",
    "    if (char == 'a') or (char == 'e') or (char == 'i' ) or (char == '0') or (char == 'u'):\n",
    "        vowels += 1\n",
    "        \n",
    "print('number of vowels:', vowels )"
   ]
  },
  {
   "cell_type": "code",
   "execution_count": null,
   "metadata": {
    "collapsed": true
   },
   "outputs": [],
   "source": []
  }
 ],
 "metadata": {
  "kernelspec": {
   "display_name": "Python 3",
   "language": "python",
   "name": "python3"
  },
  "language_info": {
   "codemirror_mode": {
    "name": "ipython",
    "version": 3
   },
   "file_extension": ".py",
   "mimetype": "text/x-python",
   "name": "python",
   "nbconvert_exporter": "python",
   "pygments_lexer": "ipython3",
   "version": "3.5.1"
  }
 },
 "nbformat": 4,
 "nbformat_minor": 0
}
